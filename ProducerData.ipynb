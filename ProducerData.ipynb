{
 "cells": [
  {
   "cell_type": "code",
   "execution_count": 3,
   "metadata": {},
   "outputs": [
    {
     "name": "stdout",
     "output_type": "stream",
     "text": [
      "Requirement already satisfied: yfinance in c:\\users\\theya\\appdata\\local\\programs\\python\\python312\\lib\\site-packages (from -r requirements.txt (line 1)) (0.2.51)\n",
      "Requirement already satisfied: kafka in c:\\users\\theya\\appdata\\local\\programs\\python\\python312\\lib\\site-packages (from -r requirements.txt (line 2)) (1.3.5)\n",
      "Requirement already satisfied: pandas>=1.3.0 in c:\\users\\theya\\appdata\\local\\programs\\python\\python312\\lib\\site-packages (from yfinance->-r requirements.txt (line 1)) (2.2.2)\n",
      "Requirement already satisfied: numpy>=1.16.5 in c:\\users\\theya\\appdata\\local\\programs\\python\\python312\\lib\\site-packages (from yfinance->-r requirements.txt (line 1)) (1.26.4)\n",
      "Requirement already satisfied: requests>=2.31 in c:\\users\\theya\\appdata\\local\\programs\\python\\python312\\lib\\site-packages (from yfinance->-r requirements.txt (line 1)) (2.32.3)\n",
      "Requirement already satisfied: multitasking>=0.0.7 in c:\\users\\theya\\appdata\\local\\programs\\python\\python312\\lib\\site-packages (from yfinance->-r requirements.txt (line 1)) (0.0.11)\n",
      "Requirement already satisfied: lxml>=4.9.1 in c:\\users\\theya\\appdata\\local\\programs\\python\\python312\\lib\\site-packages (from yfinance->-r requirements.txt (line 1)) (5.3.0)\n",
      "Requirement already satisfied: platformdirs>=2.0.0 in c:\\users\\theya\\appdata\\roaming\\python\\python312\\site-packages (from yfinance->-r requirements.txt (line 1)) (4.2.2)\n",
      "Requirement already satisfied: pytz>=2022.5 in c:\\users\\theya\\appdata\\local\\programs\\python\\python312\\lib\\site-packages (from yfinance->-r requirements.txt (line 1)) (2024.2)\n",
      "Requirement already satisfied: frozendict>=2.3.4 in c:\\users\\theya\\appdata\\local\\programs\\python\\python312\\lib\\site-packages (from yfinance->-r requirements.txt (line 1)) (2.4.6)\n",
      "Requirement already satisfied: peewee>=3.16.2 in c:\\users\\theya\\appdata\\local\\programs\\python\\python312\\lib\\site-packages (from yfinance->-r requirements.txt (line 1)) (3.17.8)\n",
      "Requirement already satisfied: beautifulsoup4>=4.11.1 in c:\\users\\theya\\appdata\\local\\programs\\python\\python312\\lib\\site-packages (from yfinance->-r requirements.txt (line 1)) (4.12.3)\n",
      "Requirement already satisfied: html5lib>=1.1 in c:\\users\\theya\\appdata\\local\\programs\\python\\python312\\lib\\site-packages (from yfinance->-r requirements.txt (line 1)) (1.1)\n",
      "Requirement already satisfied: soupsieve>1.2 in c:\\users\\theya\\appdata\\local\\programs\\python\\python312\\lib\\site-packages (from beautifulsoup4>=4.11.1->yfinance->-r requirements.txt (line 1)) (2.6)\n",
      "Requirement already satisfied: six>=1.9 in c:\\users\\theya\\appdata\\roaming\\python\\python312\\site-packages (from html5lib>=1.1->yfinance->-r requirements.txt (line 1)) (1.16.0)\n",
      "Requirement already satisfied: webencodings in c:\\users\\theya\\appdata\\local\\programs\\python\\python312\\lib\\site-packages (from html5lib>=1.1->yfinance->-r requirements.txt (line 1)) (0.5.1)\n",
      "Requirement already satisfied: python-dateutil>=2.8.2 in c:\\users\\theya\\appdata\\roaming\\python\\python312\\site-packages (from pandas>=1.3.0->yfinance->-r requirements.txt (line 1)) (2.9.0.post0)\n",
      "Requirement already satisfied: tzdata>=2022.7 in c:\\users\\theya\\appdata\\local\\programs\\python\\python312\\lib\\site-packages (from pandas>=1.3.0->yfinance->-r requirements.txt (line 1)) (2024.1)\n",
      "Requirement already satisfied: charset-normalizer<4,>=2 in c:\\users\\theya\\appdata\\local\\programs\\python\\python312\\lib\\site-packages (from requests>=2.31->yfinance->-r requirements.txt (line 1)) (3.4.0)\n",
      "Requirement already satisfied: idna<4,>=2.5 in c:\\users\\theya\\appdata\\local\\programs\\python\\python312\\lib\\site-packages (from requests>=2.31->yfinance->-r requirements.txt (line 1)) (3.10)\n",
      "Requirement already satisfied: urllib3<3,>=1.21.1 in c:\\users\\theya\\appdata\\local\\programs\\python\\python312\\lib\\site-packages (from requests>=2.31->yfinance->-r requirements.txt (line 1)) (2.2.3)\n",
      "Requirement already satisfied: certifi>=2017.4.17 in c:\\users\\theya\\appdata\\local\\programs\\python\\python312\\lib\\site-packages (from requests>=2.31->yfinance->-r requirements.txt (line 1)) (2024.8.30)\n",
      "Note: you may need to restart the kernel to use updated packages.\n"
     ]
    },
    {
     "name": "stderr",
     "output_type": "stream",
     "text": [
      "\n",
      "[notice] A new release of pip is available: 24.2 -> 24.3.1\n",
      "[notice] To update, run: python.exe -m pip install --upgrade pip\n"
     ]
    }
   ],
   "source": [
    "pip install -r requirements.txt"
   ]
  },
  {
   "cell_type": "code",
   "execution_count": 4,
   "metadata": {},
   "outputs": [
    {
     "name": "stdout",
     "output_type": "stream",
     "text": [
      "{'Price': 218.94000244140625, 'Name': 'AMZN', 'Timestamp': 1736625120357}\n"
     ]
    },
    {
     "ename": "KeyboardInterrupt",
     "evalue": "",
     "output_type": "error",
     "traceback": [
      "\u001b[1;31m---------------------------------------------------------------------------\u001b[0m",
      "\u001b[1;31mKeyboardInterrupt\u001b[0m                         Traceback (most recent call last)",
      "Cell \u001b[1;32mIn[4], line 40\u001b[0m\n\u001b[0;32m     34\u001b[0m \u001b[38;5;28mprint\u001b[39m(stock_data)\n\u001b[0;32m     36\u001b[0m \u001b[38;5;66;03m# Uncomment the line below to send the stock data to Kafka\u001b[39;00m\n\u001b[0;32m     37\u001b[0m \u001b[38;5;66;03m# producer.send(ticker, stock_data)\u001b[39;00m\n\u001b[0;32m     38\u001b[0m \n\u001b[0;32m     39\u001b[0m \u001b[38;5;66;03m# Wait for 12 seconds before the next iteration\u001b[39;00m\n\u001b[1;32m---> 40\u001b[0m \u001b[43msleep\u001b[49m\u001b[43m(\u001b[49m\u001b[38;5;241;43m12\u001b[39;49m\u001b[43m)\u001b[49m\n\u001b[0;32m     41\u001b[0m counter \u001b[38;5;241m+\u001b[39m\u001b[38;5;241m=\u001b[39m \u001b[38;5;241m1\u001b[39m\n",
      "\u001b[1;31mKeyboardInterrupt\u001b[0m: "
     ]
    }
   ],
   "source": [
    "import yfinance as yf\n",
    "import json\n",
    "from time import sleep\n",
    "import sys\n",
    "import time\n",
    "\n",
    "\n",
    "\n",
    "from kafka import KafkaProducer\n",
    "\n",
    "# Set the ticker symbol for Amazon\n",
    "ticker = \"AMZN\"\n",
    "\n",
    "\n",
    "counter = 0\n",
    "while counter <= 20:\n",
    "    stock_data = {}\n",
    "    \n",
    "    # Fetch the latest stock price\n",
    "    stock = yf.Ticker(ticker)\n",
    "    stock_data[\"Price\"] = stock.fast_info.last_price  # Current price of the stock\n",
    "    \n",
    "    # Additional metadata\n",
    "    stock_data[\"Name\"] = ticker  # Amazon's ticker name\n",
    "    stock_data[\"Timestamp\"] = round(time.time() * 1000)  # Current timestamp in milliseconds\n",
    "    \n",
    "    \n",
    "    print(stock_data)\n",
    "    \n",
    "    \n",
    "    # Wait for 12 seconds before the next iteration\n",
    "    sleep(12)\n",
    "    counter += 1\n"
   ]
  },
  {
   "cell_type": "code",
   "execution_count": null,
   "metadata": {},
   "outputs": [],
   "source": []
  }
 ],
 "metadata": {
  "kernelspec": {
   "display_name": "Python 3",
   "language": "python",
   "name": "python3"
  },
  "language_info": {
   "codemirror_mode": {
    "name": "ipython",
    "version": 3
   },
   "file_extension": ".py",
   "mimetype": "text/x-python",
   "name": "python",
   "nbconvert_exporter": "python",
   "pygments_lexer": "ipython3",
   "version": "3.12.5"
  }
 },
 "nbformat": 4,
 "nbformat_minor": 2
}
