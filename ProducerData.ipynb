{
 "cells": [
  {
   "cell_type": "code",
   "execution_count": 3,
   "metadata": {},
   "outputs": [
    {
     "name": "stdout",
     "output_type": "stream",
     "text": [
      "Requirement already satisfied: yfinance in c:\\users\\theya\\appdata\\local\\programs\\python\\python312\\lib\\site-packages (from -r requirements.txt (line 1)) (0.2.51)\n",
      "Requirement already satisfied: kafka in c:\\users\\theya\\appdata\\local\\programs\\python\\python312\\lib\\site-packages (from -r requirements.txt (line 2)) (1.3.5)\n",
      "Requirement already satisfied: pandas>=1.3.0 in c:\\users\\theya\\appdata\\local\\programs\\python\\python312\\lib\\site-packages (from yfinance->-r requirements.txt (line 1)) (2.2.2)\n",
      "Requirement already satisfied: numpy>=1.16.5 in c:\\users\\theya\\appdata\\local\\programs\\python\\python312\\lib\\site-packages (from yfinance->-r requirements.txt (line 1)) (1.26.4)\n",
      "Requirement already satisfied: requests>=2.31 in c:\\users\\theya\\appdata\\local\\programs\\python\\python312\\lib\\site-packages (from yfinance->-r requirements.txt (line 1)) (2.32.3)\n",
      "Requirement already satisfied: multitasking>=0.0.7 in c:\\users\\theya\\appdata\\local\\programs\\python\\python312\\lib\\site-packages (from yfinance->-r requirements.txt (line 1)) (0.0.11)\n",
      "Requirement already satisfied: lxml>=4.9.1 in c:\\users\\theya\\appdata\\local\\programs\\python\\python312\\lib\\site-packages (from yfinance->-r requirements.txt (line 1)) (5.3.0)\n",
      "Requirement already satisfied: platformdirs>=2.0.0 in c:\\users\\theya\\appdata\\roaming\\python\\python312\\site-packages (from yfinance->-r requirements.txt (line 1)) (4.2.2)\n",
      "Requirement already satisfied: pytz>=2022.5 in c:\\users\\theya\\appdata\\local\\programs\\python\\python312\\lib\\site-packages (from yfinance->-r requirements.txt (line 1)) (2024.2)\n",
      "Requirement already satisfied: frozendict>=2.3.4 in c:\\users\\theya\\appdata\\local\\programs\\python\\python312\\lib\\site-packages (from yfinance->-r requirements.txt (line 1)) (2.4.6)\n",
      "Requirement already satisfied: peewee>=3.16.2 in c:\\users\\theya\\appdata\\local\\programs\\python\\python312\\lib\\site-packages (from yfinance->-r requirements.txt (line 1)) (3.17.8)\n",
      "Requirement already satisfied: beautifulsoup4>=4.11.1 in c:\\users\\theya\\appdata\\local\\programs\\python\\python312\\lib\\site-packages (from yfinance->-r requirements.txt (line 1)) (4.12.3)\n",
      "Requirement already satisfied: html5lib>=1.1 in c:\\users\\theya\\appdata\\local\\programs\\python\\python312\\lib\\site-packages (from yfinance->-r requirements.txt (line 1)) (1.1)\n",
      "Requirement already satisfied: soupsieve>1.2 in c:\\users\\theya\\appdata\\local\\programs\\python\\python312\\lib\\site-packages (from beautifulsoup4>=4.11.1->yfinance->-r requirements.txt (line 1)) (2.6)\n",
      "Requirement already satisfied: six>=1.9 in c:\\users\\theya\\appdata\\roaming\\python\\python312\\site-packages (from html5lib>=1.1->yfinance->-r requirements.txt (line 1)) (1.16.0)\n",
      "Requirement already satisfied: webencodings in c:\\users\\theya\\appdata\\local\\programs\\python\\python312\\lib\\site-packages (from html5lib>=1.1->yfinance->-r requirements.txt (line 1)) (0.5.1)\n",
      "Requirement already satisfied: python-dateutil>=2.8.2 in c:\\users\\theya\\appdata\\roaming\\python\\python312\\site-packages (from pandas>=1.3.0->yfinance->-r requirements.txt (line 1)) (2.9.0.post0)\n",
      "Requirement already satisfied: tzdata>=2022.7 in c:\\users\\theya\\appdata\\local\\programs\\python\\python312\\lib\\site-packages (from pandas>=1.3.0->yfinance->-r requirements.txt (line 1)) (2024.1)\n",
      "Requirement already satisfied: charset-normalizer<4,>=2 in c:\\users\\theya\\appdata\\local\\programs\\python\\python312\\lib\\site-packages (from requests>=2.31->yfinance->-r requirements.txt (line 1)) (3.4.0)\n",
      "Requirement already satisfied: idna<4,>=2.5 in c:\\users\\theya\\appdata\\local\\programs\\python\\python312\\lib\\site-packages (from requests>=2.31->yfinance->-r requirements.txt (line 1)) (3.10)\n",
      "Requirement already satisfied: urllib3<3,>=1.21.1 in c:\\users\\theya\\appdata\\local\\programs\\python\\python312\\lib\\site-packages (from requests>=2.31->yfinance->-r requirements.txt (line 1)) (2.2.3)\n",
      "Requirement already satisfied: certifi>=2017.4.17 in c:\\users\\theya\\appdata\\local\\programs\\python\\python312\\lib\\site-packages (from requests>=2.31->yfinance->-r requirements.txt (line 1)) (2024.8.30)\n",
      "Note: you may need to restart the kernel to use updated packages.\n"
     ]
    },
    {
     "name": "stderr",
     "output_type": "stream",
     "text": [
      "\n",
      "[notice] A new release of pip is available: 24.2 -> 24.3.1\n",
      "[notice] To update, run: python.exe -m pip install --upgrade pip\n"
     ]
    }
   ],
   "source": [
    "pip install -r requirements.txt"
   ]
  },
  {
   "cell_type": "code",
   "execution_count": 6,
   "metadata": {},
   "outputs": [
    {
     "ename": "NoBrokersAvailable",
     "evalue": "NoBrokersAvailable",
     "output_type": "error",
     "traceback": [
      "\u001b[1;31m---------------------------------------------------------------------------\u001b[0m",
      "\u001b[1;31mNoBrokersAvailable\u001b[0m                        Traceback (most recent call last)",
      "Cell \u001b[1;32mIn[6], line 62\u001b[0m\n\u001b[0;32m     59\u001b[0m interval \u001b[38;5;241m=\u001b[39m \u001b[38;5;241m12\u001b[39m  \u001b[38;5;66;03m# Time interval between iterations (in seconds)\u001b[39;00m\n\u001b[0;32m     61\u001b[0m \u001b[38;5;66;03m# Generate and send stock data to Kafka\u001b[39;00m\n\u001b[1;32m---> 62\u001b[0m \u001b[43mgenerate_stock_data\u001b[49m\u001b[43m(\u001b[49m\u001b[43mticker\u001b[49m\u001b[43m,\u001b[49m\u001b[43m \u001b[49m\u001b[43mkafka_brokers\u001b[49m\u001b[43m,\u001b[49m\u001b[43m \u001b[49m\u001b[43mkafka_topic\u001b[49m\u001b[43m,\u001b[49m\u001b[43m \u001b[49m\u001b[43miterations\u001b[49m\u001b[43m,\u001b[49m\u001b[43m \u001b[49m\u001b[43minterval\u001b[49m\u001b[43m)\u001b[49m\n",
      "Cell \u001b[1;32mIn[6], line 32\u001b[0m, in \u001b[0;36mgenerate_stock_data\u001b[1;34m(ticker, kafka_brokers, kafka_topic, iterations, interval)\u001b[0m\n\u001b[0;32m     30\u001b[0m \u001b[38;5;28;01mdef\u001b[39;00m \u001b[38;5;21mgenerate_stock_data\u001b[39m(ticker, kafka_brokers, kafka_topic, iterations, interval):\n\u001b[0;32m     31\u001b[0m     \u001b[38;5;66;03m# Initialize Kafka producer\u001b[39;00m\n\u001b[1;32m---> 32\u001b[0m     producer \u001b[38;5;241m=\u001b[39m \u001b[43minitialize_kafka_producer\u001b[49m\u001b[43m(\u001b[49m\u001b[43mkafka_brokers\u001b[49m\u001b[43m)\u001b[49m\n\u001b[0;32m     34\u001b[0m     \u001b[38;5;66;03m# Generate and send stock data in a loop\u001b[39;00m\n\u001b[0;32m     35\u001b[0m     counter \u001b[38;5;241m=\u001b[39m \u001b[38;5;241m0\u001b[39m\n",
      "Cell \u001b[1;32mIn[6], line 23\u001b[0m, in \u001b[0;36minitialize_kafka_producer\u001b[1;34m(brokers)\u001b[0m\n\u001b[0;32m     22\u001b[0m \u001b[38;5;28;01mdef\u001b[39;00m \u001b[38;5;21minitialize_kafka_producer\u001b[39m(brokers):\n\u001b[1;32m---> 23\u001b[0m     producer \u001b[38;5;241m=\u001b[39m \u001b[43mKafkaProducer\u001b[49m\u001b[43m(\u001b[49m\n\u001b[0;32m     24\u001b[0m \u001b[43m        \u001b[49m\u001b[43mbootstrap_servers\u001b[49m\u001b[38;5;241;43m=\u001b[39;49m\u001b[43mbrokers\u001b[49m\u001b[43m,\u001b[49m\n\u001b[0;32m     25\u001b[0m \u001b[43m        \u001b[49m\u001b[43mvalue_serializer\u001b[49m\u001b[38;5;241;43m=\u001b[39;49m\u001b[38;5;28;43;01mlambda\u001b[39;49;00m\u001b[43m \u001b[49m\u001b[43mv\u001b[49m\u001b[43m:\u001b[49m\u001b[43m \u001b[49m\u001b[43mjson\u001b[49m\u001b[38;5;241;43m.\u001b[39;49m\u001b[43mdumps\u001b[49m\u001b[43m(\u001b[49m\u001b[43mv\u001b[49m\u001b[43m)\u001b[49m\u001b[38;5;241;43m.\u001b[39;49m\u001b[43mencode\u001b[49m\u001b[43m(\u001b[49m\u001b[38;5;124;43m'\u001b[39;49m\u001b[38;5;124;43mutf-8\u001b[39;49m\u001b[38;5;124;43m'\u001b[39;49m\u001b[43m)\u001b[49m\n\u001b[0;32m     26\u001b[0m \u001b[43m    \u001b[49m\u001b[43m)\u001b[49m\n\u001b[0;32m     27\u001b[0m     \u001b[38;5;28;01mreturn\u001b[39;00m producer\n",
      "File \u001b[1;32mc:\\Users\\theya\\AppData\\Local\\Programs\\Python\\Python312\\Lib\\site-packages\\kafka\\producer\\kafka.py:381\u001b[0m, in \u001b[0;36mKafkaProducer.__init__\u001b[1;34m(self, **configs)\u001b[0m\n\u001b[0;32m    378\u001b[0m reporters \u001b[38;5;241m=\u001b[39m [reporter() \u001b[38;5;28;01mfor\u001b[39;00m reporter \u001b[38;5;129;01min\u001b[39;00m \u001b[38;5;28mself\u001b[39m\u001b[38;5;241m.\u001b[39mconfig[\u001b[38;5;124m'\u001b[39m\u001b[38;5;124mmetric_reporters\u001b[39m\u001b[38;5;124m'\u001b[39m]]\n\u001b[0;32m    379\u001b[0m \u001b[38;5;28mself\u001b[39m\u001b[38;5;241m.\u001b[39m_metrics \u001b[38;5;241m=\u001b[39m Metrics(metric_config, reporters)\n\u001b[1;32m--> 381\u001b[0m client \u001b[38;5;241m=\u001b[39m \u001b[43mKafkaClient\u001b[49m\u001b[43m(\u001b[49m\u001b[43mmetrics\u001b[49m\u001b[38;5;241;43m=\u001b[39;49m\u001b[38;5;28;43mself\u001b[39;49m\u001b[38;5;241;43m.\u001b[39;49m\u001b[43m_metrics\u001b[49m\u001b[43m,\u001b[49m\u001b[43m \u001b[49m\u001b[43mmetric_group_prefix\u001b[49m\u001b[38;5;241;43m=\u001b[39;49m\u001b[38;5;124;43m'\u001b[39;49m\u001b[38;5;124;43mproducer\u001b[39;49m\u001b[38;5;124;43m'\u001b[39;49m\u001b[43m,\u001b[49m\n\u001b[0;32m    382\u001b[0m \u001b[43m                     \u001b[49m\u001b[43mwakeup_timeout_ms\u001b[49m\u001b[38;5;241;43m=\u001b[39;49m\u001b[38;5;28;43mself\u001b[39;49m\u001b[38;5;241;43m.\u001b[39;49m\u001b[43mconfig\u001b[49m\u001b[43m[\u001b[49m\u001b[38;5;124;43m'\u001b[39;49m\u001b[38;5;124;43mmax_block_ms\u001b[39;49m\u001b[38;5;124;43m'\u001b[39;49m\u001b[43m]\u001b[49m\u001b[43m,\u001b[49m\n\u001b[0;32m    383\u001b[0m \u001b[43m                     \u001b[49m\u001b[38;5;241;43m*\u001b[39;49m\u001b[38;5;241;43m*\u001b[39;49m\u001b[38;5;28;43mself\u001b[39;49m\u001b[38;5;241;43m.\u001b[39;49m\u001b[43mconfig\u001b[49m\u001b[43m)\u001b[49m\n\u001b[0;32m    385\u001b[0m \u001b[38;5;66;03m# Get auto-discovered version from client if necessary\u001b[39;00m\n\u001b[0;32m    386\u001b[0m \u001b[38;5;28;01mif\u001b[39;00m \u001b[38;5;28mself\u001b[39m\u001b[38;5;241m.\u001b[39mconfig[\u001b[38;5;124m'\u001b[39m\u001b[38;5;124mapi_version\u001b[39m\u001b[38;5;124m'\u001b[39m] \u001b[38;5;129;01mis\u001b[39;00m \u001b[38;5;28;01mNone\u001b[39;00m:\n",
      "File \u001b[1;32mc:\\Users\\theya\\AppData\\Local\\Programs\\Python\\Python312\\Lib\\site-packages\\kafka\\client_async.py:244\u001b[0m, in \u001b[0;36mKafkaClient.__init__\u001b[1;34m(self, **configs)\u001b[0m\n\u001b[0;32m    242\u001b[0m \u001b[38;5;28;01mif\u001b[39;00m \u001b[38;5;28mself\u001b[39m\u001b[38;5;241m.\u001b[39mconfig[\u001b[38;5;124m'\u001b[39m\u001b[38;5;124mapi_version\u001b[39m\u001b[38;5;124m'\u001b[39m] \u001b[38;5;129;01mis\u001b[39;00m \u001b[38;5;28;01mNone\u001b[39;00m:\n\u001b[0;32m    243\u001b[0m     check_timeout \u001b[38;5;241m=\u001b[39m \u001b[38;5;28mself\u001b[39m\u001b[38;5;241m.\u001b[39mconfig[\u001b[38;5;124m'\u001b[39m\u001b[38;5;124mapi_version_auto_timeout_ms\u001b[39m\u001b[38;5;124m'\u001b[39m] \u001b[38;5;241m/\u001b[39m \u001b[38;5;241m1000\u001b[39m\n\u001b[1;32m--> 244\u001b[0m     \u001b[38;5;28mself\u001b[39m\u001b[38;5;241m.\u001b[39mconfig[\u001b[38;5;124m'\u001b[39m\u001b[38;5;124mapi_version\u001b[39m\u001b[38;5;124m'\u001b[39m] \u001b[38;5;241m=\u001b[39m \u001b[38;5;28;43mself\u001b[39;49m\u001b[38;5;241;43m.\u001b[39;49m\u001b[43mcheck_version\u001b[49m\u001b[43m(\u001b[49m\u001b[43mtimeout\u001b[49m\u001b[38;5;241;43m=\u001b[39;49m\u001b[43mcheck_timeout\u001b[49m\u001b[43m)\u001b[49m\n",
      "File \u001b[1;32mc:\\Users\\theya\\AppData\\Local\\Programs\\Python\\Python312\\Lib\\site-packages\\kafka\\client_async.py:927\u001b[0m, in \u001b[0;36mKafkaClient.check_version\u001b[1;34m(self, node_id, timeout, strict)\u001b[0m\n\u001b[0;32m    924\u001b[0m \u001b[38;5;66;03m# Timeout\u001b[39;00m\n\u001b[0;32m    925\u001b[0m \u001b[38;5;28;01melse\u001b[39;00m:\n\u001b[0;32m    926\u001b[0m     \u001b[38;5;28mself\u001b[39m\u001b[38;5;241m.\u001b[39m_lock\u001b[38;5;241m.\u001b[39mrelease()\n\u001b[1;32m--> 927\u001b[0m     \u001b[38;5;28;01mraise\u001b[39;00m Errors\u001b[38;5;241m.\u001b[39mNoBrokersAvailable()\n",
      "\u001b[1;31mNoBrokersAvailable\u001b[0m: NoBrokersAvailable"
     ]
    }
   ],
   "source": [
    "import yfinance as yf\n",
    "import json\n",
    "import time\n",
    "from time import sleep\n",
    "from kafka import KafkaProducer\n",
    "\n",
    "# Function to fetch the latest stock price\n",
    "def get_stock_data(ticker):\n",
    "    stock_data = {}\n",
    "    stock = yf.Ticker(ticker)\n",
    "    stock_data[\"Price\"] = stock.fast_info.last_price  # Current price of the stock\n",
    "    stock_data[\"Name\"] = ticker  # Stock's ticker name\n",
    "    stock_data[\"Timestamp\"] = round(time.time() * 1000)  # Current timestamp in milliseconds\n",
    "    return stock_data\n",
    "\n",
    "# Function to send stock data to Kafka\n",
    "def send_to_kafka(producer, topic, stock_data):\n",
    "    producer.send(topic, stock_data)\n",
    "    producer.flush()  # Ensure message is sent\n",
    "\n",
    "# Function to initialize Kafka producer\n",
    "def initialize_kafka_producer(brokers):\n",
    "    producer = KafkaProducer(\n",
    "        bootstrap_servers=brokers,\n",
    "        value_serializer=lambda v: json.dumps(v).encode('utf-8')\n",
    "    )\n",
    "    return producer\n",
    "\n",
    "# Main function to generate stock data and send to Kafka\n",
    "def generate_stock_data(ticker, kafka_brokers, kafka_topic, iterations, interval):\n",
    "    # Initialize Kafka producer\n",
    "    producer = initialize_kafka_producer(kafka_brokers)\n",
    "    \n",
    "    # Generate and send stock data in a loop\n",
    "    counter = 0\n",
    "    while counter <= iterations:\n",
    "        # Fetch the latest stock data\n",
    "        stock_data = get_stock_data(ticker)\n",
    "        \n",
    "        # Print the stock data (Optional)\n",
    "        print(stock_data)\n",
    "        \n",
    "        # Send stock data to Kafka\n",
    "        send_to_kafka(producer, kafka_topic, stock_data)\n",
    "        \n",
    "        # Wait for the next iteration\n",
    "        sleep(interval)\n",
    "        counter += 1\n",
    "    \n",
    "    # Close the Kafka producer connection\n",
    "    producer.close()\n",
    "\n",
    "# Main execution\n",
    "if __name__ == '__main__':\n",
    "    ticker = \"AMZN\"  # Set the ticker symbol for Amazon\n",
    "    kafka_brokers = \"localhost:9092\"  # Kafka brokers\n",
    "    kafka_topic = 'stockprice'  # Kafka topic to send the data\n",
    "    iterations = 20  # Number of iterations (number of stock price fetches)\n",
    "    interval = 12  # Time interval between iterations (in seconds)\n",
    "    \n",
    "    # Generate and send stock data to Kafka\n",
    "    generate_stock_data(ticker, kafka_brokers, kafka_topic, iterations, interval)\n"
   ]
  },
  {
   "cell_type": "code",
   "execution_count": null,
   "metadata": {},
   "outputs": [],
   "source": []
  }
 ],
 "metadata": {
  "kernelspec": {
   "display_name": "Python 3",
   "language": "python",
   "name": "python3"
  },
  "language_info": {
   "codemirror_mode": {
    "name": "ipython",
    "version": 3
   },
   "file_extension": ".py",
   "mimetype": "text/x-python",
   "name": "python",
   "nbconvert_exporter": "python",
   "pygments_lexer": "ipython3",
   "version": "3.12.5"
  }
 },
 "nbformat": 4,
 "nbformat_minor": 2
}
